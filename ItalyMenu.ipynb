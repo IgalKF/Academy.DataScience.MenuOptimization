{
 "cells": [
  {
   "cell_type": "markdown",
   "id": "352771fd",
   "metadata": {},
   "source": [
    "<font color='green' size='6'>Italy </font>\n",
    "<font color ='red' size='6'>Menu</font>\n",
    "<br>\n",
    "\n",
    "## Research Question\n",
    "#### Generating meal compositions with AI\n",
    "\n",
    "**Name:** Andrea <br>\n",
    "**Name:** Emilio <br>\n",
    "**Name:** Mayya Lihovodov <br>\n",
    "\n",
    "**Name:** Igal Khalfin <br>\n",
    "**Name:** Dima Vornov  <br>\n",
    "**Name:** Adi Zamir    <br>\n",
    "**Name:** Adir Nisim   <br>\n",
    "**Name:** Nir Levy    <br>\n",
    "\n",
    "Starting Date: 24/11/2022\n"
   ]
  },
  {
   "cell_type": "markdown",
   "id": "afbf9c9d",
   "metadata": {},
   "source": [
    "<font color='green' size='5'>\n",
    "Import Modules (Packages) </font>\n",
    "<br>"
   ]
  },
  {
   "cell_type": "code",
   "execution_count": 16,
   "id": "320fbca9",
   "metadata": {},
   "outputs": [],
   "source": [
    "import numpy as np\n",
    "import pandas as pd\n",
    "import matplotlib.pyplot as plt\n",
    "from math import inf\n",
    "\n",
    "\n",
    "pd.set_option('display.max_columns', None)\n",
    "pd.set_option('display.max_rows', 20)\n"
   ]
  },
  {
   "cell_type": "markdown",
   "id": "e0c2a4c4",
   "metadata": {},
   "source": [
    "<h1><ins>Data Handling Section </ins></h1>\n",
    "<br>\n",
    "* read CSV file <br>\n",
    "* removing rows where quantity < 0 <br>\n",
    " * Adding Columns: <br>\n",
    "<font color='darkgreen'>\n",
    "    Price_Before_Discount(full price), <br>\n",
    "    Earnings (Paid price - cost), <br>\n",
    "    Margin (Earnings / paid price as precentage % view), <br>\n",
    "    Unit_Price, <br>\n",
    "    Sale_Month (for EDA and future purpess), <br>\n",
    "    Menu Category, mapping category by specifay item name (food/soft drink/alcohol).\n",
    "</font>"
   ]
  },
  {
   "cell_type": "code",
   "execution_count": 17,
   "id": "f3f5bb26",
   "metadata": {},
   "outputs": [
    {
     "name": "stderr",
     "output_type": "stream",
     "text": [
      "c:\\Users\\Dima\\anaconda3\\lib\\site-packages\\numpy\\lib\\arraysetops.py:569: FutureWarning: elementwise comparison failed; returning scalar instead, but in the future will perform elementwise comparison\n",
      "  mask |= (ar1 == a)\n"
     ]
    }
   ],
   "source": [
    "df = pd.read_csv('Query_Sicilia_2021.csv', index_col=0)  "
   ]
  },
  {
   "cell_type": "code",
   "execution_count": 18,
   "id": "f8434073",
   "metadata": {},
   "outputs": [
    {
     "data": {
      "text/html": [
       "<div>\n",
       "<style scoped>\n",
       "    .dataframe tbody tr th:only-of-type {\n",
       "        vertical-align: middle;\n",
       "    }\n",
       "\n",
       "    .dataframe tbody tr th {\n",
       "        vertical-align: top;\n",
       "    }\n",
       "\n",
       "    .dataframe thead th {\n",
       "        text-align: right;\n",
       "    }\n",
       "</style>\n",
       "<table border=\"1\" class=\"dataframe\">\n",
       "  <thead>\n",
       "    <tr style=\"text-align: right;\">\n",
       "      <th></th>\n",
       "      <th>SHIP</th>\n",
       "      <th>LINE</th>\n",
       "      <th>ROUTE</th>\n",
       "      <th>VOYAGE_ID_VOYAGE_DATE</th>\n",
       "      <th>VOYAGE_DATE</th>\n",
       "      <th>SALE_DATE</th>\n",
       "      <th>POINT_OF_SALE</th>\n",
       "      <th>POINT_OF_SALE_LOCATION</th>\n",
       "      <th>BILL_NUMBER</th>\n",
       "      <th>BILL_TIME</th>\n",
       "      <th>BILL_HOUR</th>\n",
       "      <th>ITEM</th>\n",
       "      <th>ITEM_MACROCATEGORY_1</th>\n",
       "      <th>ITEM_MACROCATEGORY_2</th>\n",
       "      <th>ITEM_CATEGORY</th>\n",
       "      <th>QUANTITY</th>\n",
       "      <th>PRICE_PAID</th>\n",
       "      <th>DISCOUNT</th>\n",
       "      <th>COST_OF_SALE</th>\n",
       "      <th>DISCOUNT_CODE</th>\n",
       "    </tr>\n",
       "  </thead>\n",
       "  <tbody>\n",
       "    <tr>\n",
       "      <th>2079</th>\n",
       "      <td>EXCELLENT</td>\n",
       "      <td>CVC-TRI</td>\n",
       "      <td>RC</td>\n",
       "      <td>499942021-01-14</td>\n",
       "      <td>20210114</td>\n",
       "      <td>20210114</td>\n",
       "      <td>SELF</td>\n",
       "      <td>EXT SELF Passeggeri</td>\n",
       "      <td>84</td>\n",
       "      <td>133738</td>\n",
       "      <td>13.0</td>\n",
       "      <td>PANE E SERVIZIO SELF</td>\n",
       "      <td>FOOD</td>\n",
       "      <td>RICETTE FOOD</td>\n",
       "      <td>PANE E COPERTO PASTI</td>\n",
       "      <td>-1</td>\n",
       "      <td>-1.0</td>\n",
       "      <td>0.0</td>\n",
       "      <td>-0.13</td>\n",
       "      <td>NaN</td>\n",
       "    </tr>\n",
       "    <tr>\n",
       "      <th>2080</th>\n",
       "      <td>EXCELLENT</td>\n",
       "      <td>CVC-TRI</td>\n",
       "      <td>RC</td>\n",
       "      <td>499942021-01-14</td>\n",
       "      <td>20210114</td>\n",
       "      <td>20210114</td>\n",
       "      <td>SELF</td>\n",
       "      <td>EXT SELF Passeggeri</td>\n",
       "      <td>84</td>\n",
       "      <td>133738</td>\n",
       "      <td>13.0</td>\n",
       "      <td>MELANZANE AL POMODORO (C)</td>\n",
       "      <td>FOOD</td>\n",
       "      <td>RICETTE FOOD</td>\n",
       "      <td>CONTORNO</td>\n",
       "      <td>-1</td>\n",
       "      <td>-3.9</td>\n",
       "      <td>0.0</td>\n",
       "      <td>-0.31</td>\n",
       "      <td>NaN</td>\n",
       "    </tr>\n",
       "    <tr>\n",
       "      <th>2081</th>\n",
       "      <td>EXCELLENT</td>\n",
       "      <td>CVC-TRI</td>\n",
       "      <td>RC</td>\n",
       "      <td>499942021-01-14</td>\n",
       "      <td>20210114</td>\n",
       "      <td>20210114</td>\n",
       "      <td>SELF</td>\n",
       "      <td>EXT SELF Passeggeri</td>\n",
       "      <td>84</td>\n",
       "      <td>133738</td>\n",
       "      <td>13.0</td>\n",
       "      <td>COCA COLA 33CL TIN</td>\n",
       "      <td>BEVERAGE</td>\n",
       "      <td>ACQUA E SOFT DRINKS</td>\n",
       "      <td>SOFT DRINKS</td>\n",
       "      <td>-1</td>\n",
       "      <td>-3.0</td>\n",
       "      <td>0.0</td>\n",
       "      <td>-0.40</td>\n",
       "      <td>NaN</td>\n",
       "    </tr>\n",
       "    <tr>\n",
       "      <th>2082</th>\n",
       "      <td>EXCELLENT</td>\n",
       "      <td>CVC-TRI</td>\n",
       "      <td>RC</td>\n",
       "      <td>499942021-01-14</td>\n",
       "      <td>20210114</td>\n",
       "      <td>20210114</td>\n",
       "      <td>SELF</td>\n",
       "      <td>EXT SELF Passeggeri</td>\n",
       "      <td>84</td>\n",
       "      <td>133738</td>\n",
       "      <td>13.0</td>\n",
       "      <td>FRUTTA FRESCA</td>\n",
       "      <td>FOOD</td>\n",
       "      <td>RICETTE FOOD</td>\n",
       "      <td>FRUTTA</td>\n",
       "      <td>-1</td>\n",
       "      <td>-3.1</td>\n",
       "      <td>0.0</td>\n",
       "      <td>-0.25</td>\n",
       "      <td>NaN</td>\n",
       "    </tr>\n",
       "    <tr>\n",
       "      <th>2083</th>\n",
       "      <td>EXCELLENT</td>\n",
       "      <td>CVC-TRI</td>\n",
       "      <td>RC</td>\n",
       "      <td>499942021-01-14</td>\n",
       "      <td>20210114</td>\n",
       "      <td>20210114</td>\n",
       "      <td>SELF</td>\n",
       "      <td>EXT SELF Passeggeri</td>\n",
       "      <td>84</td>\n",
       "      <td>133738</td>\n",
       "      <td>13.0</td>\n",
       "      <td>GNOCCHI ALLA BOLOGNESE</td>\n",
       "      <td>FOOD</td>\n",
       "      <td>RICETTE FOOD</td>\n",
       "      <td>PRIMO</td>\n",
       "      <td>-1</td>\n",
       "      <td>-4.9</td>\n",
       "      <td>0.0</td>\n",
       "      <td>-0.28</td>\n",
       "      <td>NaN</td>\n",
       "    </tr>\n",
       "    <tr>\n",
       "      <th>...</th>\n",
       "      <td>...</td>\n",
       "      <td>...</td>\n",
       "      <td>...</td>\n",
       "      <td>...</td>\n",
       "      <td>...</td>\n",
       "      <td>...</td>\n",
       "      <td>...</td>\n",
       "      <td>...</td>\n",
       "      <td>...</td>\n",
       "      <td>...</td>\n",
       "      <td>...</td>\n",
       "      <td>...</td>\n",
       "      <td>...</td>\n",
       "      <td>...</td>\n",
       "      <td>...</td>\n",
       "      <td>...</td>\n",
       "      <td>...</td>\n",
       "      <td>...</td>\n",
       "      <td>...</td>\n",
       "      <td>...</td>\n",
       "    </tr>\n",
       "    <tr>\n",
       "      <th>2335501</th>\n",
       "      <td>TENACIA</td>\n",
       "      <td>NAP-TRI</td>\n",
       "      <td>RI</td>\n",
       "      <td>509692021-10-02</td>\n",
       "      <td>20211002</td>\n",
       "      <td>20211002</td>\n",
       "      <td>SELF</td>\n",
       "      <td>TENACIA Front Desk</td>\n",
       "      <td>3</td>\n",
       "      <td>185253</td>\n",
       "      <td>18.0</td>\n",
       "      <td>HAMBURGER ALLA GRIGLIA (C)</td>\n",
       "      <td>FOOD</td>\n",
       "      <td>RICETTE FOOD</td>\n",
       "      <td>SECONDO</td>\n",
       "      <td>-1</td>\n",
       "      <td>-8.0</td>\n",
       "      <td>0.0</td>\n",
       "      <td>-0.65</td>\n",
       "      <td>NaN</td>\n",
       "    </tr>\n",
       "    <tr>\n",
       "      <th>2335502</th>\n",
       "      <td>TENACIA</td>\n",
       "      <td>NAP-TRI</td>\n",
       "      <td>RI</td>\n",
       "      <td>509692021-10-02</td>\n",
       "      <td>20211002</td>\n",
       "      <td>20211002</td>\n",
       "      <td>SELF</td>\n",
       "      <td>TENACIA Front Desk</td>\n",
       "      <td>3</td>\n",
       "      <td>185253</td>\n",
       "      <td>18.0</td>\n",
       "      <td>PANE E SERVIZIO SELF</td>\n",
       "      <td>FOOD</td>\n",
       "      <td>RICETTE FOOD</td>\n",
       "      <td>PANE E COPERTO PASTI</td>\n",
       "      <td>-3</td>\n",
       "      <td>-3.0</td>\n",
       "      <td>0.0</td>\n",
       "      <td>-0.40</td>\n",
       "      <td>NaN</td>\n",
       "    </tr>\n",
       "    <tr>\n",
       "      <th>2335859</th>\n",
       "      <td>TENACIA</td>\n",
       "      <td>NAP-TRI</td>\n",
       "      <td>RI</td>\n",
       "      <td>599532021-10-09</td>\n",
       "      <td>20211009</td>\n",
       "      <td>20211009</td>\n",
       "      <td>BAR</td>\n",
       "      <td>TENACIA BAR</td>\n",
       "      <td>71</td>\n",
       "      <td>205011</td>\n",
       "      <td>20.0</td>\n",
       "      <td>VECCHIA ROMAGNA E.N. CL 4</td>\n",
       "      <td>BEVERAGE</td>\n",
       "      <td>RICETTE ALCOLICHE</td>\n",
       "      <td>SUPERALCOLICI LISCI</td>\n",
       "      <td>-1</td>\n",
       "      <td>-4.0</td>\n",
       "      <td>0.0</td>\n",
       "      <td>-0.68</td>\n",
       "      <td>NaN</td>\n",
       "    </tr>\n",
       "    <tr>\n",
       "      <th>2336556</th>\n",
       "      <td>TENACIA</td>\n",
       "      <td>NAP-TRI</td>\n",
       "      <td>IR</td>\n",
       "      <td>633972021-10-30</td>\n",
       "      <td>20211030</td>\n",
       "      <td>20211030</td>\n",
       "      <td>SELF</td>\n",
       "      <td>TENACIA Front Desk</td>\n",
       "      <td>16</td>\n",
       "      <td>133936</td>\n",
       "      <td>13.0</td>\n",
       "      <td>BIRRA BECK S 33CL BT</td>\n",
       "      <td>BEVERAGE</td>\n",
       "      <td>BIRRE</td>\n",
       "      <td>BIRRA PAX</td>\n",
       "      <td>-1</td>\n",
       "      <td>-4.5</td>\n",
       "      <td>0.0</td>\n",
       "      <td>-0.65</td>\n",
       "      <td>NaN</td>\n",
       "    </tr>\n",
       "    <tr>\n",
       "      <th>2336557</th>\n",
       "      <td>TENACIA</td>\n",
       "      <td>NAP-TRI</td>\n",
       "      <td>IR</td>\n",
       "      <td>633972021-10-30</td>\n",
       "      <td>20211030</td>\n",
       "      <td>20211030</td>\n",
       "      <td>SELF</td>\n",
       "      <td>TENACIA Front Desk</td>\n",
       "      <td>16</td>\n",
       "      <td>133936</td>\n",
       "      <td>13.0</td>\n",
       "      <td>TILAPIA IN SALSA PICCANTE CON OLIVE</td>\n",
       "      <td>FOOD</td>\n",
       "      <td>RICETTE FOOD</td>\n",
       "      <td>SECONDO</td>\n",
       "      <td>-1</td>\n",
       "      <td>-8.4</td>\n",
       "      <td>0.0</td>\n",
       "      <td>-0.89</td>\n",
       "      <td>NaN</td>\n",
       "    </tr>\n",
       "  </tbody>\n",
       "</table>\n",
       "<p>4200 rows × 20 columns</p>\n",
       "</div>"
      ],
      "text/plain": [
       "              SHIP     LINE ROUTE VOYAGE_ID_VOYAGE_DATE  VOYAGE_DATE  \\\n",
       "2079     EXCELLENT  CVC-TRI    RC       499942021-01-14     20210114   \n",
       "2080     EXCELLENT  CVC-TRI    RC       499942021-01-14     20210114   \n",
       "2081     EXCELLENT  CVC-TRI    RC       499942021-01-14     20210114   \n",
       "2082     EXCELLENT  CVC-TRI    RC       499942021-01-14     20210114   \n",
       "2083     EXCELLENT  CVC-TRI    RC       499942021-01-14     20210114   \n",
       "...            ...      ...   ...                   ...          ...   \n",
       "2335501    TENACIA  NAP-TRI    RI       509692021-10-02     20211002   \n",
       "2335502    TENACIA  NAP-TRI    RI       509692021-10-02     20211002   \n",
       "2335859    TENACIA  NAP-TRI    RI       599532021-10-09     20211009   \n",
       "2336556    TENACIA  NAP-TRI    IR       633972021-10-30     20211030   \n",
       "2336557    TENACIA  NAP-TRI    IR       633972021-10-30     20211030   \n",
       "\n",
       "         SALE_DATE POINT_OF_SALE POINT_OF_SALE_LOCATION  BILL_NUMBER  \\\n",
       "2079      20210114          SELF    EXT SELF Passeggeri           84   \n",
       "2080      20210114          SELF    EXT SELF Passeggeri           84   \n",
       "2081      20210114          SELF    EXT SELF Passeggeri           84   \n",
       "2082      20210114          SELF    EXT SELF Passeggeri           84   \n",
       "2083      20210114          SELF    EXT SELF Passeggeri           84   \n",
       "...            ...           ...                    ...          ...   \n",
       "2335501   20211002          SELF     TENACIA Front Desk            3   \n",
       "2335502   20211002          SELF     TENACIA Front Desk            3   \n",
       "2335859   20211009           BAR            TENACIA BAR           71   \n",
       "2336556   20211030          SELF     TENACIA Front Desk           16   \n",
       "2336557   20211030          SELF     TENACIA Front Desk           16   \n",
       "\n",
       "         BILL_TIME  BILL_HOUR                                 ITEM  \\\n",
       "2079        133738       13.0                 PANE E SERVIZIO SELF   \n",
       "2080        133738       13.0            MELANZANE AL POMODORO (C)   \n",
       "2081        133738       13.0                   COCA COLA 33CL TIN   \n",
       "2082        133738       13.0                        FRUTTA FRESCA   \n",
       "2083        133738       13.0               GNOCCHI ALLA BOLOGNESE   \n",
       "...            ...        ...                                  ...   \n",
       "2335501     185253       18.0           HAMBURGER ALLA GRIGLIA (C)   \n",
       "2335502     185253       18.0                 PANE E SERVIZIO SELF   \n",
       "2335859     205011       20.0            VECCHIA ROMAGNA E.N. CL 4   \n",
       "2336556     133936       13.0                 BIRRA BECK S 33CL BT   \n",
       "2336557     133936       13.0  TILAPIA IN SALSA PICCANTE CON OLIVE   \n",
       "\n",
       "        ITEM_MACROCATEGORY_1 ITEM_MACROCATEGORY_2         ITEM_CATEGORY  \\\n",
       "2079                    FOOD         RICETTE FOOD  PANE E COPERTO PASTI   \n",
       "2080                    FOOD         RICETTE FOOD              CONTORNO   \n",
       "2081                BEVERAGE  ACQUA E SOFT DRINKS           SOFT DRINKS   \n",
       "2082                    FOOD         RICETTE FOOD                FRUTTA   \n",
       "2083                    FOOD         RICETTE FOOD                 PRIMO   \n",
       "...                      ...                  ...                   ...   \n",
       "2335501                 FOOD         RICETTE FOOD               SECONDO   \n",
       "2335502                 FOOD         RICETTE FOOD  PANE E COPERTO PASTI   \n",
       "2335859             BEVERAGE    RICETTE ALCOLICHE   SUPERALCOLICI LISCI   \n",
       "2336556             BEVERAGE                BIRRE             BIRRA PAX   \n",
       "2336557                 FOOD         RICETTE FOOD               SECONDO   \n",
       "\n",
       "         QUANTITY  PRICE_PAID  DISCOUNT  COST_OF_SALE DISCOUNT_CODE  \n",
       "2079           -1        -1.0       0.0         -0.13           NaN  \n",
       "2080           -1        -3.9       0.0         -0.31           NaN  \n",
       "2081           -1        -3.0       0.0         -0.40           NaN  \n",
       "2082           -1        -3.1       0.0         -0.25           NaN  \n",
       "2083           -1        -4.9       0.0         -0.28           NaN  \n",
       "...           ...         ...       ...           ...           ...  \n",
       "2335501        -1        -8.0       0.0         -0.65           NaN  \n",
       "2335502        -3        -3.0       0.0         -0.40           NaN  \n",
       "2335859        -1        -4.0       0.0         -0.68           NaN  \n",
       "2336556        -1        -4.5       0.0         -0.65           NaN  \n",
       "2336557        -1        -8.4       0.0         -0.89           NaN  \n",
       "\n",
       "[4200 rows x 20 columns]"
      ]
     },
     "execution_count": 18,
     "metadata": {},
     "output_type": "execute_result"
    }
   ],
   "source": [
    "df[df.QUANTITY < 0]"
   ]
  },
  {
   "cell_type": "code",
   "execution_count": 19,
   "id": "dac7a0b8",
   "metadata": {},
   "outputs": [],
   "source": [
    "positive_quantity_df = df[df['QUANTITY'] > 0].copy()\n",
    "\n",
    "positive_quantity_df['PRICE_BEFORE_DISCOUNT'] = positive_quantity_df['PRICE_PAID'] + positive_quantity_df['DISCOUNT']\n",
    "positive_quantity_df['EARNINGS'] = positive_quantity_df['PRICE_PAID'] - positive_quantity_df['COST_OF_SALE']\n",
    "positive_quantity_df[\"SALE_MONTH\"] = pd.DatetimeIndex(pd.to_datetime(positive_quantity_df[\"SALE_DATE\"], format='%Y%m%d', errors='ignore')).month\n",
    "positive_quantity_df['MARGIN'] = positive_quantity_df['EARNINGS'] / positive_quantity_df['PRICE_PAID']\n",
    "positive_quantity_df.loc[positive_quantity_df['MARGIN'] < 0, 'MARGIN'] = 0\n",
    "positive_quantity_df['MARGIN_RAW'] = positive_quantity_df['MARGIN']\n",
    "positive_quantity_df['MARGIN'] = positive_quantity_df['MARGIN'] * 100\n",
    "positive_quantity_df['MARGIN'] = positive_quantity_df['MARGIN'].round(2).astype(str) + '%'\n",
    "positive_quantity_df['UNIT_PRICE'] = positive_quantity_df['PRICE_PAID'] / positive_quantity_df['QUANTITY']\n",
    "positive_quantity_df = positive_quantity_df[positive_quantity_df.MARGIN != inf]"
   ]
  },
  {
   "cell_type": "code",
   "execution_count": 20,
   "id": "7d8dc46c",
   "metadata": {},
   "outputs": [],
   "source": [
    "menu_category = {\n",
    "    'FOOD':[ 'CROISSANTS E BREAKFAST', 'SNACK', 'PIZZA', 'SALSE MONOPORZIONE', 'SECONDO', 'PRIMO', 'CONTORNO', 'PANE E COPERTO PASTI', 'ANTIPASTO', \n",
    "       'DOLCE', 'FRUTTA', 'PANINI', 'CARAMELLE', 'ALTRO', 'GELATI CONFEZIONATI', 'PANE E COPERTO BREAKFAST', 'CONFETTURE', 'CELIACI',\n",
    "       'PIATTO UNICO', 'MERENDINE', 'PANE E SIMILI', 'CEREALI', 'FORMAGGI', 'BIBITE SCIROPPATE', 'YOGHURT', 'RICORRENZE E DECORAZIONI' ],\n",
    "    'SOFT DRINK': [ \n",
    "        \"CAFFE'\", 'ACQUA', 'CAPPUCCINO', 'THE E INFUSI', 'SUCCHI', 'SOFT DRINKS', 'GRANITA', 'CIOCCOLATA', ],\n",
    "    'ALCOHOL': [\n",
    "        'VINI ITALIANI', 'SUPERALCOLICI LISCI', 'LATTE MACCHIATO', 'APERITIVO', 'BIRRA PAX', 'COCKTAILS', 'SPUMANTE', 'CHAMPAGNE', 'VINO BIANCO', ],\n",
    "    'CORRECTION': ['CORREZIONE']\n",
    "}\n",
    "mapping = {}\n",
    "for key in menu_category:\n",
    "    for value in menu_category[key]:\n",
    "        mapping[value] = key\n",
    "\n",
    "\n",
    "positive_quantity_df['MENU_CATEGORY'] = positive_quantity_df['ITEM_CATEGORY'].map(mapping)"
   ]
  },
  {
   "cell_type": "markdown",
   "id": "1ff39b9e",
   "metadata": {},
   "source": [
    " <h1><ins>Data EDA-Visualization </ins></h1>\n",
    " <br>\n",
    " we want to get point of view from margin and earning"
   ]
  },
  {
   "cell_type": "code",
   "execution_count": 21,
   "id": "43b16e1d",
   "metadata": {},
   "outputs": [
    {
     "name": "stderr",
     "output_type": "stream",
     "text": [
      "c:\\Users\\Dima\\anaconda3\\lib\\site-packages\\numpy\\lib\\function_base.py:393: RuntimeWarning: Mean of empty slice.\n",
      "  avg = a.mean(axis)\n",
      "c:\\Users\\Dima\\anaconda3\\lib\\site-packages\\numpy\\core\\_methods.py:161: RuntimeWarning: invalid value encountered in double_scalars\n",
      "  ret = ret.dtype.type(ret / rcount)\n"
     ]
    },
    {
     "data": {
      "text/html": [
       "<div>\n",
       "<style scoped>\n",
       "    .dataframe tbody tr th:only-of-type {\n",
       "        vertical-align: middle;\n",
       "    }\n",
       "\n",
       "    .dataframe tbody tr th {\n",
       "        vertical-align: top;\n",
       "    }\n",
       "\n",
       "    .dataframe thead th {\n",
       "        text-align: right;\n",
       "    }\n",
       "</style>\n",
       "<table border=\"1\" class=\"dataframe\">\n",
       "  <thead>\n",
       "    <tr style=\"text-align: right;\">\n",
       "      <th></th>\n",
       "      <th>MARGIN_RAW</th>\n",
       "    </tr>\n",
       "    <tr>\n",
       "      <th>POINT_OF_SALE_LOCATION</th>\n",
       "      <th></th>\n",
       "    </tr>\n",
       "  </thead>\n",
       "  <tbody>\n",
       "    <tr>\n",
       "      <th>ANTARES BAR 1</th>\n",
       "      <td>0.794625</td>\n",
       "    </tr>\n",
       "    <tr>\n",
       "      <th>ANTARES BAR 2</th>\n",
       "      <td>0.852819</td>\n",
       "    </tr>\n",
       "    <tr>\n",
       "      <th>ANTARES RISTORANTE</th>\n",
       "      <td>0.868285</td>\n",
       "    </tr>\n",
       "    <tr>\n",
       "      <th>ARIES BAR 1</th>\n",
       "      <td>0.795602</td>\n",
       "    </tr>\n",
       "    <tr>\n",
       "      <th>ARIES BAR 2</th>\n",
       "      <td>0.834957</td>\n",
       "    </tr>\n",
       "    <tr>\n",
       "      <th>...</th>\n",
       "      <td>...</td>\n",
       "    </tr>\n",
       "    <tr>\n",
       "      <th>SPL GELATERIA</th>\n",
       "      <td>0.854253</td>\n",
       "    </tr>\n",
       "    <tr>\n",
       "      <th>SPM BAR Centrale</th>\n",
       "      <td>0.727487</td>\n",
       "    </tr>\n",
       "    <tr>\n",
       "      <th>SPM BAR Piscina</th>\n",
       "      <td>0.732457</td>\n",
       "    </tr>\n",
       "    <tr>\n",
       "      <th>SPM Front Desk</th>\n",
       "      <td>0.926389</td>\n",
       "    </tr>\n",
       "    <tr>\n",
       "      <th>TENACIA Front Desk</th>\n",
       "      <td>0.881466</td>\n",
       "    </tr>\n",
       "  </tbody>\n",
       "</table>\n",
       "<p>43 rows × 1 columns</p>\n",
       "</div>"
      ],
      "text/plain": [
       "                        MARGIN_RAW\n",
       "POINT_OF_SALE_LOCATION            \n",
       "ANTARES BAR 1             0.794625\n",
       "ANTARES BAR 2             0.852819\n",
       "ANTARES RISTORANTE        0.868285\n",
       "ARIES BAR 1               0.795602\n",
       "ARIES BAR 2               0.834957\n",
       "...                            ...\n",
       "SPL GELATERIA             0.854253\n",
       "SPM BAR Centrale          0.727487\n",
       "SPM BAR Piscina           0.732457\n",
       "SPM Front Desk            0.926389\n",
       "TENACIA Front Desk        0.881466\n",
       "\n",
       "[43 rows x 1 columns]"
      ]
     },
     "execution_count": 21,
     "metadata": {},
     "output_type": "execute_result"
    }
   ],
   "source": [
    "margin_by_location = pd.pivot_table(positive_quantity_df, index=['POINT_OF_SALE_LOCATION'], values=['MARGIN_RAW'], aggfunc=np.average)\n",
    "margin_by_location"
   ]
  },
  {
   "cell_type": "code",
   "execution_count": 22,
   "id": "d81ae78f",
   "metadata": {},
   "outputs": [
    {
     "data": {
      "text/html": [
       "<div>\n",
       "<style scoped>\n",
       "    .dataframe tbody tr th:only-of-type {\n",
       "        vertical-align: middle;\n",
       "    }\n",
       "\n",
       "    .dataframe tbody tr th {\n",
       "        vertical-align: top;\n",
       "    }\n",
       "\n",
       "    .dataframe thead th {\n",
       "        text-align: right;\n",
       "    }\n",
       "</style>\n",
       "<table border=\"1\" class=\"dataframe\">\n",
       "  <thead>\n",
       "    <tr style=\"text-align: right;\">\n",
       "      <th></th>\n",
       "      <th>EARNINGS</th>\n",
       "    </tr>\n",
       "    <tr>\n",
       "      <th>POINT_OF_SALE_LOCATION</th>\n",
       "      <th></th>\n",
       "    </tr>\n",
       "  </thead>\n",
       "  <tbody>\n",
       "    <tr>\n",
       "      <th>ANTARES BAR 1</th>\n",
       "      <td>215352.15</td>\n",
       "    </tr>\n",
       "    <tr>\n",
       "      <th>ANTARES BAR 2</th>\n",
       "      <td>61800.84</td>\n",
       "    </tr>\n",
       "    <tr>\n",
       "      <th>ANTARES Front Desk</th>\n",
       "      <td>3738.77</td>\n",
       "    </tr>\n",
       "    <tr>\n",
       "      <th>ANTARES RISTORANTE</th>\n",
       "      <td>123926.97</td>\n",
       "    </tr>\n",
       "    <tr>\n",
       "      <th>ANTARES Self Pax</th>\n",
       "      <td>187983.09</td>\n",
       "    </tr>\n",
       "    <tr>\n",
       "      <th>...</th>\n",
       "      <td>...</td>\n",
       "    </tr>\n",
       "    <tr>\n",
       "      <th>SPM RISTORANTE</th>\n",
       "      <td>16414.05</td>\n",
       "    </tr>\n",
       "    <tr>\n",
       "      <th>SPM SELF Passeggeri</th>\n",
       "      <td>95559.30</td>\n",
       "    </tr>\n",
       "    <tr>\n",
       "      <th>TENACIA BAR</th>\n",
       "      <td>161258.96</td>\n",
       "    </tr>\n",
       "    <tr>\n",
       "      <th>TENACIA Front Desk</th>\n",
       "      <td>610.35</td>\n",
       "    </tr>\n",
       "    <tr>\n",
       "      <th>TENACIA Self Pax</th>\n",
       "      <td>98840.52</td>\n",
       "    </tr>\n",
       "  </tbody>\n",
       "</table>\n",
       "<p>73 rows × 1 columns</p>\n",
       "</div>"
      ],
      "text/plain": [
       "                         EARNINGS\n",
       "POINT_OF_SALE_LOCATION           \n",
       "ANTARES BAR 1           215352.15\n",
       "ANTARES BAR 2            61800.84\n",
       "ANTARES Front Desk        3738.77\n",
       "ANTARES RISTORANTE      123926.97\n",
       "ANTARES Self Pax        187983.09\n",
       "...                           ...\n",
       "SPM RISTORANTE           16414.05\n",
       "SPM SELF Passeggeri      95559.30\n",
       "TENACIA BAR             161258.96\n",
       "TENACIA Front Desk         610.35\n",
       "TENACIA Self Pax         98840.52\n",
       "\n",
       "[73 rows x 1 columns]"
      ]
     },
     "execution_count": 22,
     "metadata": {},
     "output_type": "execute_result"
    }
   ],
   "source": [
    "earnings_by_location = pd.pivot_table(positive_quantity_df, index=['POINT_OF_SALE_LOCATION'], values=['EARNINGS'], aggfunc=np.sum)\n",
    "earnings_by_location"
   ]
  },
  {
   "cell_type": "code",
   "execution_count": 23,
   "id": "3861db46",
   "metadata": {},
   "outputs": [
    {
     "data": {
      "text/plain": [
       "<matplotlib.axes._subplots.AxesSubplot at 0x18097c39348>"
      ]
     },
     "execution_count": 23,
     "metadata": {},
     "output_type": "execute_result"
    },
    {
     "data": {
      "image/png": "[encoded data removed]",
      "text/plain": [
       "<Figure size 432x288 with 1 Axes>"
      ]
     },
     "metadata": {
      "needs_background": "light"
     },
     "output_type": "display_data"
    }
   ],
   "source": [
    "earnings_by_ship = pd.pivot_table(positive_quantity_df, index=['SHIP'], values=['EARNINGS'], aggfunc=np.sum)\n",
    "earnings_by_ship.plot.bar()"
   ]
  },
  {
   "cell_type": "markdown",
   "id": "300025f2",
   "metadata": {},
   "source": [
    "<h2>Earnings By Month</h2>\n",
    "<h4>As we can see, <strong>summer</strong> season is the stongest season of them all when it comes to earnings</h4>"
   ]
  },
  {
   "cell_type": "code",
   "execution_count": 24,
   "id": "7f5dd733",
   "metadata": {},
   "outputs": [
    {
     "data": {
      "text/plain": [
       "<matplotlib.axes._subplots.AxesSubplot at 0x18097da0e48>"
      ]
     },
     "execution_count": 24,
     "metadata": {},
     "output_type": "execute_result"
    },
    {
     "data": {
      "image/png": "[encoded data removed]",
      "text/plain": [
       "<Figure size 432x288 with 1 Axes>"
      ]
     },
     "metadata": {
      "needs_background": "light"
     },
     "output_type": "display_data"
    }
   ],
   "source": [
    "earnings_by_month = pd.pivot_table(positive_quantity_df, index=['SALE_MONTH'], values=['EARNINGS'], aggfunc=np.sum)\n",
    "earnings_by_month.plot.bar()"
   ]
  },
  {
   "cell_type": "markdown",
   "id": "89b028d3",
   "metadata": {},
   "source": [
    "<h2>Top sellers of each month</h2>\n",
    "<h4>As we can see, <strong>summer</strong> season is the stongest season of them all when it comes to earnings</h4>"
   ]
  },
  {
   "cell_type": "code",
   "execution_count": 25,
   "id": "7ac33b22",
   "metadata": {
    "scrolled": true
   },
   "outputs": [
    {
     "data": {
      "text/plain": [
       "SALE_MONTH  ITEM_CATEGORY         \n",
       "1           CAFFE'                    20633\n",
       "            PANE E COPERTO PASTI      11910\n",
       "            CONTORNO                  10446\n",
       "2           CAFFE'                    21689\n",
       "            PANE E COPERTO PASTI      13206\n",
       "                                      ...  \n",
       "11          PANE E COPERTO PASTI      18818\n",
       "            CROISSANTS E BREAKFAST    16783\n",
       "12          CAFFE'                    41241\n",
       "            PANE E COPERTO PASTI      21818\n",
       "            CROISSANTS E BREAKFAST    21121\n",
       "Name: QUANTITY, Length: 36, dtype: int64"
      ]
     },
     "execution_count": 25,
     "metadata": {},
     "output_type": "execute_result"
    }
   ],
   "source": [
    "groupby_quantity = positive_quantity_df.groupby(['SALE_MONTH','ITEM_CATEGORY']).agg({'QUANTITY':sum})\n",
    "groupby_month = groupby_quantity['QUANTITY'].groupby('SALE_MONTH', group_keys=False)\n",
    "groupby_month.nlargest(3)\n"
   ]
  },
  {
   "cell_type": "markdown",
   "id": "fdcaec42",
   "metadata": {},
   "source": []
  },
  {
   "cell_type": "code",
   "execution_count": 209,
   "id": "e62837f6",
   "metadata": {},
   "outputs": [
    {
     "data": {
      "text/html": [
       "<div>\n",
       "<style scoped>\n",
       "    .dataframe tbody tr th:only-of-type {\n",
       "        vertical-align: middle;\n",
       "    }\n",
       "\n",
       "    .dataframe tbody tr th {\n",
       "        vertical-align: top;\n",
       "    }\n",
       "\n",
       "    .dataframe thead th {\n",
       "        text-align: right;\n",
       "    }\n",
       "</style>\n",
       "<table border=\"1\" class=\"dataframe\">\n",
       "  <thead>\n",
       "    <tr style=\"text-align: right;\">\n",
       "      <th></th>\n",
       "      <th></th>\n",
       "      <th>QUANTITY</th>\n",
       "    </tr>\n",
       "    <tr>\n",
       "      <th>Seasons</th>\n",
       "      <th>MENU_CATEGORY</th>\n",
       "      <th></th>\n",
       "    </tr>\n",
       "  </thead>\n",
       "  <tbody>\n",
       "    <tr>\n",
       "      <th rowspan=\"4\" valign=\"top\">Autumn</th>\n",
       "      <th>ALCOHOL</th>\n",
       "      <td>62181</td>\n",
       "    </tr>\n",
       "    <tr>\n",
       "      <th>CORRECTION</th>\n",
       "      <td>1193</td>\n",
       "    </tr>\n",
       "    <tr>\n",
       "      <th>FOOD</th>\n",
       "      <td>554480</td>\n",
       "    </tr>\n",
       "    <tr>\n",
       "      <th>SOFT DRINK</th>\n",
       "      <td>364674</td>\n",
       "    </tr>\n",
       "    <tr>\n",
       "      <th rowspan=\"4\" valign=\"top\">Spring</th>\n",
       "      <th>ALCOHOL</th>\n",
       "      <td>29824</td>\n",
       "    </tr>\n",
       "    <tr>\n",
       "      <th>CORRECTION</th>\n",
       "      <td>980</td>\n",
       "    </tr>\n",
       "    <tr>\n",
       "      <th>FOOD</th>\n",
       "      <td>299546</td>\n",
       "    </tr>\n",
       "    <tr>\n",
       "      <th>SOFT DRINK</th>\n",
       "      <td>178256</td>\n",
       "    </tr>\n",
       "    <tr>\n",
       "      <th rowspan=\"4\" valign=\"top\">Summer</th>\n",
       "      <th>ALCOHOL</th>\n",
       "      <td>101044</td>\n",
       "    </tr>\n",
       "    <tr>\n",
       "      <th>CORRECTION</th>\n",
       "      <td>1579</td>\n",
       "    </tr>\n",
       "    <tr>\n",
       "      <th>FOOD</th>\n",
       "      <td>864819</td>\n",
       "    </tr>\n",
       "    <tr>\n",
       "      <th>SOFT DRINK</th>\n",
       "      <td>644677</td>\n",
       "    </tr>\n",
       "    <tr>\n",
       "      <th rowspan=\"4\" valign=\"top\">Winter</th>\n",
       "      <th>ALCOHOL</th>\n",
       "      <td>25796</td>\n",
       "    </tr>\n",
       "    <tr>\n",
       "      <th>CORRECTION</th>\n",
       "      <td>776</td>\n",
       "    </tr>\n",
       "    <tr>\n",
       "      <th>FOOD</th>\n",
       "      <td>296348</td>\n",
       "    </tr>\n",
       "    <tr>\n",
       "      <th>SOFT DRINK</th>\n",
       "      <td>176820</td>\n",
       "    </tr>\n",
       "  </tbody>\n",
       "</table>\n",
       "</div>"
      ],
      "text/plain": [
       "                       QUANTITY\n",
       "Seasons MENU_CATEGORY          \n",
       "Autumn  ALCOHOL           62181\n",
       "        CORRECTION         1193\n",
       "        FOOD             554480\n",
       "        SOFT DRINK       364674\n",
       "Spring  ALCOHOL           29824\n",
       "        CORRECTION          980\n",
       "        FOOD             299546\n",
       "        SOFT DRINK       178256\n",
       "Summer  ALCOHOL          101044\n",
       "        CORRECTION         1579\n",
       "        FOOD             864819\n",
       "        SOFT DRINK       644677\n",
       "Winter  ALCOHOL           25796\n",
       "        CORRECTION          776\n",
       "        FOOD             296348\n",
       "        SOFT DRINK       176820"
      ]
     },
     "execution_count": 209,
     "metadata": {},
     "output_type": "execute_result"
    }
   ],
   "source": [
    "testdf = positive_quantity_df.copy()\n",
    "mapping = {}\n",
    "for i in range(1,12):\n",
    "    if(i<3):\n",
    "        mapping[i]='Winter'\n",
    "    elif(i>=3 and i<6):\n",
    "        mapping[i]='Spring'\n",
    "    elif(i>=6 and i <9):\n",
    "        mapping[i]='Summer'\n",
    "    else:\n",
    "        mapping[i]='Autumn'\n",
    "mapping[12]='Winter'\n",
    "testdf['Seasons']= testdf['SALE_MONTH'].map(mapping)\n",
    "testdf.groupby(['Seasons','MENU_CATEGORY']).agg({'QUANTITY':sum})\n",
    "\n",
    "\n"
   ]
  },
  {
   "cell_type": "code",
   "execution_count": 210,
   "id": "1f2d639c",
   "metadata": {},
   "outputs": [
    {
     "data": {
      "text/plain": [
       "<matplotlib.axes._subplots.AxesSubplot at 0x181a541a308>"
      ]
     },
     "execution_count": 210,
     "metadata": {},
     "output_type": "execute_result"
    },
    {
     "data": {
      "image/png": "[encoded data removed]",
      "text/plain": [
       "<Figure size 1080x360 with 1 Axes>"
      ]
     },
     "metadata": {
      "needs_background": "light"
     },
     "output_type": "display_data"
    }
   ],
   "source": [
    "testdf.groupby(['Seasons','MENU_CATEGORY']).agg({'QUANTITY':sum}).unstack(1).plot.barh(figsize=(15,5))\n",
    "\n"
   ]
  },
  {
   "cell_type": "code",
   "execution_count": 211,
   "id": "b21b92cc",
   "metadata": {},
   "outputs": [
    {
     "data": {
      "text/plain": [
       "<matplotlib.axes._subplots.AxesSubplot at 0x181a54c1e08>"
      ]
     },
     "execution_count": 211,
     "metadata": {},
     "output_type": "execute_result"
    },
    {
     "data": {
      "image/png": "[encoded data removed]",
      "text/plain": [
       "<Figure size 1080x360 with 1 Axes>"
      ]
     },
     "metadata": {
      "needs_background": "light"
     },
     "output_type": "display_data"
    }
   ],
   "source": [
    "\n",
    "testdf.groupby(['Seasons','MENU_CATEGORY']).agg({'EARNINGS':sum}).unstack(1).plot.barh(figsize=(15,5))"
   ]
  },
  {
   "cell_type": "code",
   "execution_count": 237,
   "id": "ca50ffb0",
   "metadata": {},
   "outputs": [
    {
     "data": {
      "text/plain": [
       "<matplotlib.axes._subplots.AxesSubplot at 0x180cbe18348>"
      ]
     },
     "execution_count": 237,
     "metadata": {},
     "output_type": "execute_result"
    },
    {
     "data": {
      "image/png": "[encoded data removed]",
      "text/plain": [
       "<Figure size 1080x360 with 1 Axes>"
      ]
     },
     "metadata": {
      "needs_background": "light"
     },
     "output_type": "display_data"
    }
   ],
   "source": [
    "\n",
    "testdf[\"SALE_DAY\"]=pd.DatetimeIndex(pd.to_datetime(positive_quantity_df[\"SALE_DATE\"], format='%Y%m%d', errors='ignore')).dayofweek\n",
    "testdf.groupby(['SALE_DAY','MENU_CATEGORY']).agg({'EARNINGS':sum}).unstack(1).plot.barh(figsize=(15,5))\n"
   ]
  },
  {
   "cell_type": "code",
   "execution_count": 244,
   "id": "fb0e9b33",
   "metadata": {},
   "outputs": [
    {
     "data": {
      "text/plain": [
       "<matplotlib.axes._subplots.AxesSubplot at 0x181a5b1ab88>"
      ]
     },
     "execution_count": 244,
     "metadata": {},
     "output_type": "execute_result"
    },
    {
     "data": {
      "image/png": "[encoded data removed]",
      "text/plain": [
       "<Figure size 1080x360 with 1 Axes>"
      ]
     },
     "metadata": {
      "needs_background": "light"
     },
     "output_type": "display_data"
    }
   ],
   "source": [
    "testdf[\"SALE_DAY\"]=pd.DatetimeIndex(pd.to_datetime(positive_quantity_df[\"SALE_DATE\"], format='%Y%m%d', errors='ignore')).dayofweek\n",
    "testdf.groupby(['SALE_DAY','MENU_CATEGORY']).agg({'EARNINGS':'sum'},{'EARNINGS':'mean'}).unstack(1).plot.barh(figsize=(15,5))\n"
   ]
  },
  {
   "cell_type": "code",
   "execution_count": null,
   "id": "618aa0f2",
   "metadata": {},
   "outputs": [],
   "source": [
    "# testdf[(testdf['BILL_NUMBER']==5) & (testdf['POINT_OF_SALE_LOCATION']== 'EXT SELF Passeggeri') & (testdf['BILL_TIME']== 123104) & (testdf['SALE_DAY']==5)]\n",
    "for i in testdf['POINT_OF_SALE_LOCATION'].unique():\n",
    "    for j in testdf[testdf['POINT_OF_SALE_LOCATION'] == i]['BILL_NUMBER'].unique():\n",
    "        print(testdf[(testdf['POINT_OF_SALE_LOCATION'] == i) & (testdf['BILL_NUMBER'] == j)]['ITEM'].tolist)\n",
    "\n"
   ]
  }
 ],
 "metadata": {
  "kernelspec": {
   "display_name": "Python 3.10.5 64-bit",
   "language": "python",
   "name": "python3"
  },
  "language_info": {
   "codemirror_mode": {
    "name": "ipython",
    "version": 3
   },
   "file_extension": ".py",
   "mimetype": "text/x-python",
   "name": "python",
   "nbconvert_exporter": "python",
   "pygments_lexer": "ipython3",
   "version": "3.10.5"
  },
  "vscode": {
   "interpreter": {
    "hash": "c0479c3ffc908dfe50af8cf226e0d6645f491f335b913d30026d8aa043de52e4"
   }
  }
 },
 "nbformat": 4,
 "nbformat_minor": 5
}
